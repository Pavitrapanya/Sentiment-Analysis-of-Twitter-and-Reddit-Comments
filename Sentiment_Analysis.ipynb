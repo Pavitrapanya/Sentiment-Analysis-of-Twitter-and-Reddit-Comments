{
  "nbformat": 4,
  "nbformat_minor": 0,
  "metadata": {
    "colab": {
      "provenance": [],
      "authorship_tag": "ABX9TyP772QVc7G5dMI17Ms6qySx",
      "include_colab_link": true
    },
    "kernelspec": {
      "name": "python3",
      "display_name": "Python 3"
    },
    "language_info": {
      "name": "python"
    }
  },
  "cells": [
    {
      "cell_type": "markdown",
      "metadata": {
        "id": "view-in-github",
        "colab_type": "text"
      },
      "source": [
        "<a href=\"https://colab.research.google.com/github/Pavitrapanya/Sentiment-Analysis-of-Twitter-and-Reddit-Comments/blob/main/Sentiment_Analysis.ipynb\" target=\"_parent\"><img src=\"https://colab.research.google.com/assets/colab-badge.svg\" alt=\"Open In Colab\"/></a>"
      ]
    },
    {
      "cell_type": "markdown",
      "source": [
        "**DATA INGESTION**"
      ],
      "metadata": {
        "id": "tSaKWNe_M76t"
      }
    },
    {
      "cell_type": "code",
      "execution_count": null,
      "metadata": {
        "colab": {
          "base_uri": "https://localhost:8080/"
        },
        "id": "DSpOBGz2h6mS",
        "outputId": "2815f5ba-fbb9-4d51-a3c6-e69ac9ac9da0"
      },
      "outputs": [
        {
          "output_type": "execute_result",
          "data": {
            "text/plain": [
              "200229"
            ]
          },
          "metadata": {},
          "execution_count": 32
        }
      ],
      "source": [
        "\n",
        "import numpy as np\n",
        "import pandas as pd\n",
        "df2=pd.read_csv('/content/Reddit_Data.csv')\n",
        "df1=pd.read_csv('/content/Twitter_Data.csv')\n",
        "df=pd.concat([df2,df1])\n",
        "len(df)\n"
      ]
    },
    {
      "cell_type": "markdown",
      "source": [
        "**DATA PREPROCESSING**"
      ],
      "metadata": {
        "id": "lUKY1N9dNX5H"
      }
    },
    {
      "cell_type": "code",
      "source": [
        "df.head()"
      ],
      "metadata": {
        "colab": {
          "base_uri": "https://localhost:8080/",
          "height": 206
        },
        "id": "q_ORfpAoM__C",
        "outputId": "71626ded-6e19-4931-c529-bf21384040e2"
      },
      "execution_count": null,
      "outputs": [
        {
          "output_type": "execute_result",
          "data": {
            "text/plain": [
              "                                       clean_comment  category\n",
              "0   family mormon have never tried explain them t...       1.0\n",
              "1  buddhism has very much lot compatible with chr...       1.0\n",
              "2  seriously don say thing first all they won get...      -1.0\n",
              "3  what you have learned yours and only yours wha...       0.0\n",
              "4  for your own benefit you may want read living ...       1.0"
            ],
            "text/html": [
              "\n",
              "  <div id=\"df-f8514ba6-2bc8-43ae-a90d-873f5b4ecfa3\">\n",
              "    <div class=\"colab-df-container\">\n",
              "      <div>\n",
              "<style scoped>\n",
              "    .dataframe tbody tr th:only-of-type {\n",
              "        vertical-align: middle;\n",
              "    }\n",
              "\n",
              "    .dataframe tbody tr th {\n",
              "        vertical-align: top;\n",
              "    }\n",
              "\n",
              "    .dataframe thead th {\n",
              "        text-align: right;\n",
              "    }\n",
              "</style>\n",
              "<table border=\"1\" class=\"dataframe\">\n",
              "  <thead>\n",
              "    <tr style=\"text-align: right;\">\n",
              "      <th></th>\n",
              "      <th>clean_comment</th>\n",
              "      <th>category</th>\n",
              "    </tr>\n",
              "  </thead>\n",
              "  <tbody>\n",
              "    <tr>\n",
              "      <th>0</th>\n",
              "      <td>family mormon have never tried explain them t...</td>\n",
              "      <td>1.0</td>\n",
              "    </tr>\n",
              "    <tr>\n",
              "      <th>1</th>\n",
              "      <td>buddhism has very much lot compatible with chr...</td>\n",
              "      <td>1.0</td>\n",
              "    </tr>\n",
              "    <tr>\n",
              "      <th>2</th>\n",
              "      <td>seriously don say thing first all they won get...</td>\n",
              "      <td>-1.0</td>\n",
              "    </tr>\n",
              "    <tr>\n",
              "      <th>3</th>\n",
              "      <td>what you have learned yours and only yours wha...</td>\n",
              "      <td>0.0</td>\n",
              "    </tr>\n",
              "    <tr>\n",
              "      <th>4</th>\n",
              "      <td>for your own benefit you may want read living ...</td>\n",
              "      <td>1.0</td>\n",
              "    </tr>\n",
              "  </tbody>\n",
              "</table>\n",
              "</div>\n",
              "      <button class=\"colab-df-convert\" onclick=\"convertToInteractive('df-f8514ba6-2bc8-43ae-a90d-873f5b4ecfa3')\"\n",
              "              title=\"Convert this dataframe to an interactive table.\"\n",
              "              style=\"display:none;\">\n",
              "        \n",
              "  <svg xmlns=\"http://www.w3.org/2000/svg\" height=\"24px\"viewBox=\"0 0 24 24\"\n",
              "       width=\"24px\">\n",
              "    <path d=\"M0 0h24v24H0V0z\" fill=\"none\"/>\n",
              "    <path d=\"M18.56 5.44l.94 2.06.94-2.06 2.06-.94-2.06-.94-.94-2.06-.94 2.06-2.06.94zm-11 1L8.5 8.5l.94-2.06 2.06-.94-2.06-.94L8.5 2.5l-.94 2.06-2.06.94zm10 10l.94 2.06.94-2.06 2.06-.94-2.06-.94-.94-2.06-.94 2.06-2.06.94z\"/><path d=\"M17.41 7.96l-1.37-1.37c-.4-.4-.92-.59-1.43-.59-.52 0-1.04.2-1.43.59L10.3 9.45l-7.72 7.72c-.78.78-.78 2.05 0 2.83L4 21.41c.39.39.9.59 1.41.59.51 0 1.02-.2 1.41-.59l7.78-7.78 2.81-2.81c.8-.78.8-2.07 0-2.86zM5.41 20L4 18.59l7.72-7.72 1.47 1.35L5.41 20z\"/>\n",
              "  </svg>\n",
              "      </button>\n",
              "      \n",
              "  <style>\n",
              "    .colab-df-container {\n",
              "      display:flex;\n",
              "      flex-wrap:wrap;\n",
              "      gap: 12px;\n",
              "    }\n",
              "\n",
              "    .colab-df-convert {\n",
              "      background-color: #E8F0FE;\n",
              "      border: none;\n",
              "      border-radius: 50%;\n",
              "      cursor: pointer;\n",
              "      display: none;\n",
              "      fill: #1967D2;\n",
              "      height: 32px;\n",
              "      padding: 0 0 0 0;\n",
              "      width: 32px;\n",
              "    }\n",
              "\n",
              "    .colab-df-convert:hover {\n",
              "      background-color: #E2EBFA;\n",
              "      box-shadow: 0px 1px 2px rgba(60, 64, 67, 0.3), 0px 1px 3px 1px rgba(60, 64, 67, 0.15);\n",
              "      fill: #174EA6;\n",
              "    }\n",
              "\n",
              "    [theme=dark] .colab-df-convert {\n",
              "      background-color: #3B4455;\n",
              "      fill: #D2E3FC;\n",
              "    }\n",
              "\n",
              "    [theme=dark] .colab-df-convert:hover {\n",
              "      background-color: #434B5C;\n",
              "      box-shadow: 0px 1px 3px 1px rgba(0, 0, 0, 0.15);\n",
              "      filter: drop-shadow(0px 1px 2px rgba(0, 0, 0, 0.3));\n",
              "      fill: #FFFFFF;\n",
              "    }\n",
              "  </style>\n",
              "\n",
              "      <script>\n",
              "        const buttonEl =\n",
              "          document.querySelector('#df-f8514ba6-2bc8-43ae-a90d-873f5b4ecfa3 button.colab-df-convert');\n",
              "        buttonEl.style.display =\n",
              "          google.colab.kernel.accessAllowed ? 'block' : 'none';\n",
              "\n",
              "        async function convertToInteractive(key) {\n",
              "          const element = document.querySelector('#df-f8514ba6-2bc8-43ae-a90d-873f5b4ecfa3');\n",
              "          const dataTable =\n",
              "            await google.colab.kernel.invokeFunction('convertToInteractive',\n",
              "                                                     [key], {});\n",
              "          if (!dataTable) return;\n",
              "\n",
              "          const docLinkHtml = 'Like what you see? Visit the ' +\n",
              "            '<a target=\"_blank\" href=https://colab.research.google.com/notebooks/data_table.ipynb>data table notebook</a>'\n",
              "            + ' to learn more about interactive tables.';\n",
              "          element.innerHTML = '';\n",
              "          dataTable['output_type'] = 'display_data';\n",
              "          await google.colab.output.renderOutput(dataTable, element);\n",
              "          const docLink = document.createElement('div');\n",
              "          docLink.innerHTML = docLinkHtml;\n",
              "          element.appendChild(docLink);\n",
              "        }\n",
              "      </script>\n",
              "    </div>\n",
              "  </div>\n",
              "  "
            ]
          },
          "metadata": {},
          "execution_count": 33
        }
      ]
    },
    {
      "cell_type": "code",
      "source": [
        "df['clean_comment'].dtype"
      ],
      "metadata": {
        "colab": {
          "base_uri": "https://localhost:8080/"
        },
        "id": "KID9_ISwjuhx",
        "outputId": "c29b079f-912f-4492-c5c7-79ae755c4de6"
      },
      "execution_count": null,
      "outputs": [
        {
          "output_type": "execute_result",
          "data": {
            "text/plain": [
              "dtype('O')"
            ]
          },
          "metadata": {},
          "execution_count": 34
        }
      ]
    },
    {
      "cell_type": "code",
      "source": [
        "df = df.dropna()\n",
        "df.isna().sum()"
      ],
      "metadata": {
        "colab": {
          "base_uri": "https://localhost:8080/"
        },
        "id": "Tv87rjOkGPGV",
        "outputId": "3ab596d2-68cd-438b-a299-a3f413766409"
      },
      "execution_count": null,
      "outputs": [
        {
          "output_type": "execute_result",
          "data": {
            "text/plain": [
              "clean_comment    0\n",
              "category         0\n",
              "dtype: int64"
            ]
          },
          "metadata": {},
          "execution_count": 35
        }
      ]
    },
    {
      "cell_type": "code",
      "source": [
        "df['clean_comment'].dtype"
      ],
      "metadata": {
        "colab": {
          "base_uri": "https://localhost:8080/"
        },
        "id": "t9PS6ke0ju3J",
        "outputId": "75c7b2e9-2455-4406-c2c9-a2dd1251a13c"
      },
      "execution_count": null,
      "outputs": [
        {
          "output_type": "execute_result",
          "data": {
            "text/plain": [
              "dtype('O')"
            ]
          },
          "metadata": {},
          "execution_count": 36
        }
      ]
    },
    {
      "cell_type": "code",
      "source": [
        "df['clean_comment']=df['clean_comment'].str.lower()"
      ],
      "metadata": {
        "id": "BwMexFJsjutd"
      },
      "execution_count": null,
      "outputs": []
    },
    {
      "cell_type": "code",
      "source": [
        "import string\n",
        "punc=string.punctuation\n",
        "print(punc)\n",
        "def remove_punc(text):\n",
        "  str(text)\n",
        "  for ch in punc:\n",
        "    text=text.replace(ch,' ')\n",
        "  return text"
      ],
      "metadata": {
        "colab": {
          "base_uri": "https://localhost:8080/"
        },
        "id": "yBTqL0uwpj0q",
        "outputId": "b032ba04-f0f1-4f7b-e7a5-63f6cd507e06"
      },
      "execution_count": null,
      "outputs": [
        {
          "output_type": "stream",
          "name": "stdout",
          "text": [
            "!\"#$%&'()*+,-./:;<=>?@[\\]^_`{|}~\n"
          ]
        }
      ]
    },
    {
      "cell_type": "code",
      "source": [
        "d=df['clean_comment']\n",
        "d.head()\n",
        "d=d.astype(str)\n",
        "d=d.apply(remove_punc)"
      ],
      "metadata": {
        "id": "Et_QBm-yp-y_"
      },
      "execution_count": null,
      "outputs": []
    },
    {
      "cell_type": "code",
      "source": [
        "df['clean_comment']=d"
      ],
      "metadata": {
        "id": "g6EpJESbyJSe"
      },
      "execution_count": null,
      "outputs": []
    },
    {
      "cell_type": "code",
      "source": [
        "df.head()"
      ],
      "metadata": {
        "colab": {
          "base_uri": "https://localhost:8080/",
          "height": 206
        },
        "id": "os750ov60-Of",
        "outputId": "85abae21-5a75-44ee-b5cc-03f49e5483bf"
      },
      "execution_count": null,
      "outputs": [
        {
          "output_type": "execute_result",
          "data": {
            "text/plain": [
              "                                       clean_comment  category\n",
              "0   family mormon have never tried explain them t...       1.0\n",
              "1  buddhism has very much lot compatible with chr...       1.0\n",
              "2  seriously don say thing first all they won get...      -1.0\n",
              "3  what you have learned yours and only yours wha...       0.0\n",
              "4  for your own benefit you may want read living ...       1.0"
            ],
            "text/html": [
              "\n",
              "  <div id=\"df-3ae8e183-9f4a-4f72-a5d8-eb428fa7da76\">\n",
              "    <div class=\"colab-df-container\">\n",
              "      <div>\n",
              "<style scoped>\n",
              "    .dataframe tbody tr th:only-of-type {\n",
              "        vertical-align: middle;\n",
              "    }\n",
              "\n",
              "    .dataframe tbody tr th {\n",
              "        vertical-align: top;\n",
              "    }\n",
              "\n",
              "    .dataframe thead th {\n",
              "        text-align: right;\n",
              "    }\n",
              "</style>\n",
              "<table border=\"1\" class=\"dataframe\">\n",
              "  <thead>\n",
              "    <tr style=\"text-align: right;\">\n",
              "      <th></th>\n",
              "      <th>clean_comment</th>\n",
              "      <th>category</th>\n",
              "    </tr>\n",
              "  </thead>\n",
              "  <tbody>\n",
              "    <tr>\n",
              "      <th>0</th>\n",
              "      <td>family mormon have never tried explain them t...</td>\n",
              "      <td>1.0</td>\n",
              "    </tr>\n",
              "    <tr>\n",
              "      <th>1</th>\n",
              "      <td>buddhism has very much lot compatible with chr...</td>\n",
              "      <td>1.0</td>\n",
              "    </tr>\n",
              "    <tr>\n",
              "      <th>2</th>\n",
              "      <td>seriously don say thing first all they won get...</td>\n",
              "      <td>-1.0</td>\n",
              "    </tr>\n",
              "    <tr>\n",
              "      <th>3</th>\n",
              "      <td>what you have learned yours and only yours wha...</td>\n",
              "      <td>0.0</td>\n",
              "    </tr>\n",
              "    <tr>\n",
              "      <th>4</th>\n",
              "      <td>for your own benefit you may want read living ...</td>\n",
              "      <td>1.0</td>\n",
              "    </tr>\n",
              "  </tbody>\n",
              "</table>\n",
              "</div>\n",
              "      <button class=\"colab-df-convert\" onclick=\"convertToInteractive('df-3ae8e183-9f4a-4f72-a5d8-eb428fa7da76')\"\n",
              "              title=\"Convert this dataframe to an interactive table.\"\n",
              "              style=\"display:none;\">\n",
              "        \n",
              "  <svg xmlns=\"http://www.w3.org/2000/svg\" height=\"24px\"viewBox=\"0 0 24 24\"\n",
              "       width=\"24px\">\n",
              "    <path d=\"M0 0h24v24H0V0z\" fill=\"none\"/>\n",
              "    <path d=\"M18.56 5.44l.94 2.06.94-2.06 2.06-.94-2.06-.94-.94-2.06-.94 2.06-2.06.94zm-11 1L8.5 8.5l.94-2.06 2.06-.94-2.06-.94L8.5 2.5l-.94 2.06-2.06.94zm10 10l.94 2.06.94-2.06 2.06-.94-2.06-.94-.94-2.06-.94 2.06-2.06.94z\"/><path d=\"M17.41 7.96l-1.37-1.37c-.4-.4-.92-.59-1.43-.59-.52 0-1.04.2-1.43.59L10.3 9.45l-7.72 7.72c-.78.78-.78 2.05 0 2.83L4 21.41c.39.39.9.59 1.41.59.51 0 1.02-.2 1.41-.59l7.78-7.78 2.81-2.81c.8-.78.8-2.07 0-2.86zM5.41 20L4 18.59l7.72-7.72 1.47 1.35L5.41 20z\"/>\n",
              "  </svg>\n",
              "      </button>\n",
              "      \n",
              "  <style>\n",
              "    .colab-df-container {\n",
              "      display:flex;\n",
              "      flex-wrap:wrap;\n",
              "      gap: 12px;\n",
              "    }\n",
              "\n",
              "    .colab-df-convert {\n",
              "      background-color: #E8F0FE;\n",
              "      border: none;\n",
              "      border-radius: 50%;\n",
              "      cursor: pointer;\n",
              "      display: none;\n",
              "      fill: #1967D2;\n",
              "      height: 32px;\n",
              "      padding: 0 0 0 0;\n",
              "      width: 32px;\n",
              "    }\n",
              "\n",
              "    .colab-df-convert:hover {\n",
              "      background-color: #E2EBFA;\n",
              "      box-shadow: 0px 1px 2px rgba(60, 64, 67, 0.3), 0px 1px 3px 1px rgba(60, 64, 67, 0.15);\n",
              "      fill: #174EA6;\n",
              "    }\n",
              "\n",
              "    [theme=dark] .colab-df-convert {\n",
              "      background-color: #3B4455;\n",
              "      fill: #D2E3FC;\n",
              "    }\n",
              "\n",
              "    [theme=dark] .colab-df-convert:hover {\n",
              "      background-color: #434B5C;\n",
              "      box-shadow: 0px 1px 3px 1px rgba(0, 0, 0, 0.15);\n",
              "      filter: drop-shadow(0px 1px 2px rgba(0, 0, 0, 0.3));\n",
              "      fill: #FFFFFF;\n",
              "    }\n",
              "  </style>\n",
              "\n",
              "      <script>\n",
              "        const buttonEl =\n",
              "          document.querySelector('#df-3ae8e183-9f4a-4f72-a5d8-eb428fa7da76 button.colab-df-convert');\n",
              "        buttonEl.style.display =\n",
              "          google.colab.kernel.accessAllowed ? 'block' : 'none';\n",
              "\n",
              "        async function convertToInteractive(key) {\n",
              "          const element = document.querySelector('#df-3ae8e183-9f4a-4f72-a5d8-eb428fa7da76');\n",
              "          const dataTable =\n",
              "            await google.colab.kernel.invokeFunction('convertToInteractive',\n",
              "                                                     [key], {});\n",
              "          if (!dataTable) return;\n",
              "\n",
              "          const docLinkHtml = 'Like what you see? Visit the ' +\n",
              "            '<a target=\"_blank\" href=https://colab.research.google.com/notebooks/data_table.ipynb>data table notebook</a>'\n",
              "            + ' to learn more about interactive tables.';\n",
              "          element.innerHTML = '';\n",
              "          dataTable['output_type'] = 'display_data';\n",
              "          await google.colab.output.renderOutput(dataTable, element);\n",
              "          const docLink = document.createElement('div');\n",
              "          docLink.innerHTML = docLinkHtml;\n",
              "          element.appendChild(docLink);\n",
              "        }\n",
              "      </script>\n",
              "    </div>\n",
              "  </div>\n",
              "  "
            ]
          },
          "metadata": {},
          "execution_count": 41
        }
      ]
    },
    {
      "cell_type": "code",
      "source": [
        "import nltk\n",
        "from nltk.stem.porter import PorterStemmer\n",
        "ps=PorterStemmer()\n",
        "nltk.download('stopwords')\n",
        "nltk.download('wordnet')\n",
        "nltk.download('omw-1.4')"
      ],
      "metadata": {
        "colab": {
          "base_uri": "https://localhost:8080/"
        },
        "id": "b7CjAGiTCjnW",
        "outputId": "52da08ed-f096-4e7a-8b7e-9ef44f2b0bba"
      },
      "execution_count": null,
      "outputs": [
        {
          "output_type": "stream",
          "name": "stderr",
          "text": [
            "[nltk_data] Downloading package stopwords to /root/nltk_data...\n",
            "[nltk_data]   Package stopwords is already up-to-date!\n",
            "[nltk_data] Downloading package wordnet to /root/nltk_data...\n",
            "[nltk_data]   Package wordnet is already up-to-date!\n",
            "[nltk_data] Downloading package omw-1.4 to /root/nltk_data...\n",
            "[nltk_data]   Package omw-1.4 is already up-to-date!\n"
          ]
        },
        {
          "output_type": "execute_result",
          "data": {
            "text/plain": [
              "True"
            ]
          },
          "metadata": {},
          "execution_count": 42
        }
      ]
    },
    {
      "cell_type": "code",
      "source": [
        "'''wn = nltk.WordNetLemmatizer()\n",
        "from nltk.corpus import stopwords\n",
        "stopWords = stopwords.words('english')\n",
        "def clean(text):\n",
        "  text = re.sub(r\"[^A-Za-z0-9]\",' ', text)\n",
        "  text = [wn.lemmatize(word) for word in text.split(' ') if ((word not in stopWords) & len(word)!=0)]\n",
        "  return \"\".join(text)'''\n",
        "import re\n",
        "def wordopt(text):\n",
        "   text = re.sub(r\"[^a-zA-Z]\", \" \", text)\n",
        "   text = text.split()\n",
        "   text = ' '.join(text)\n",
        "   return text"
      ],
      "metadata": {
        "id": "wFddNkfO1FC3"
      },
      "execution_count": null,
      "outputs": []
    },
    {
      "cell_type": "code",
      "source": [
        "d=d.astype(str)\n",
        "d=d.apply(wordopt) \n",
        "d.head()\n",
        "df['clean_comment']=d\n",
        "len(df)\n",
        "df['clean_comment']"
      ],
      "metadata": {
        "colab": {
          "base_uri": "https://localhost:8080/"
        },
        "id": "2xf0eA-YB3hn",
        "outputId": "6500e0e9-371d-491a-c827-cb89397bcedd"
      },
      "execution_count": null,
      "outputs": [
        {
          "output_type": "execute_result",
          "data": {
            "text/plain": [
              "0         family mormon have never tried explain them th...\n",
              "1         buddhism has very much lot compatible with chr...\n",
              "2         seriously don say thing first all they won get...\n",
              "3         what you have learned yours and only yours wha...\n",
              "4         for your own benefit you may want read living ...\n",
              "                                ...                        \n",
              "162975    why these crores paid neerav modi not recovere...\n",
              "162976    dear rss terrorist payal gawar what about modi...\n",
              "162977    did you cover her interaction forum where she ...\n",
              "162978    there big project came into india modi dream p...\n",
              "162979    have you ever listen about like gurukul where ...\n",
              "Name: clean_comment, Length: 200118, dtype: object"
            ]
          },
          "metadata": {},
          "execution_count": 44
        }
      ]
    },
    {
      "cell_type": "code",
      "source": [
        "from nltk.stem import WordNetLemmatizer\n",
        "# from nltk.tokenize import TweetTokenizer \n",
        "\n",
        "lemmatizer = WordNetLemmatizer() \n",
        "def lemma(text):  \n",
        "    lemmas = [lemmatizer.lemmatize(word, pos ='v') for word in text] \n",
        "    text = ''.join(lemmas)    \n",
        "    return text"
      ],
      "metadata": {
        "id": "AydeSUiqRkbA"
      },
      "execution_count": null,
      "outputs": []
    },
    {
      "cell_type": "code",
      "source": [
        "d=d.astype(str)\n",
        "d=d.apply(lemma) \n",
        "d.head()\n",
        "df['clean_comment']=d\n",
        "df['clean_comment']"
      ],
      "metadata": {
        "colab": {
          "base_uri": "https://localhost:8080/"
        },
        "id": "Qbx3atN8RklH",
        "outputId": "78480960-06ca-4fb8-89fa-3b0f1fca55e9"
      },
      "execution_count": null,
      "outputs": [
        {
          "output_type": "execute_result",
          "data": {
            "text/plain": [
              "0         family mormon have never tried explain them th...\n",
              "1         buddhism has very much lot compatible with chr...\n",
              "2         seriously don say thing first all they won get...\n",
              "3         what you have learned yours and only yours wha...\n",
              "4         for your own benefit you may want read living ...\n",
              "                                ...                        \n",
              "162975    why these crores paid neerav modi not recovere...\n",
              "162976    dear rss terrorist payal gawar what about modi...\n",
              "162977    did you cover her interaction forum where she ...\n",
              "162978    there big project came into india modi dream p...\n",
              "162979    have you ever listen about like gurukul where ...\n",
              "Name: clean_comment, Length: 200118, dtype: object"
            ]
          },
          "metadata": {},
          "execution_count": 46
        }
      ]
    },
    {
      "cell_type": "markdown",
      "source": [
        "**BUILDING MODEL USING MULTINOMIAL NB**"
      ],
      "metadata": {
        "id": "oqeVylbUORuD"
      }
    },
    {
      "cell_type": "code",
      "source": [
        "df['category'].value_counts()"
      ],
      "metadata": {
        "colab": {
          "base_uri": "https://localhost:8080/"
        },
        "id": "YsxTbdDVEZfc",
        "outputId": "657634f3-ebb9-414a-ec7a-676202aa0a12"
      },
      "execution_count": null,
      "outputs": [
        {
          "output_type": "execute_result",
          "data": {
            "text/plain": [
              " 1.0    88079\n",
              " 0.0    68253\n",
              "-1.0    43786\n",
              "Name: category, dtype: int64"
            ]
          },
          "metadata": {},
          "execution_count": 47
        }
      ]
    },
    {
      "cell_type": "code",
      "source": [
        "x=df['clean_comment'].values\n",
        "y=df['category'].values"
      ],
      "metadata": {
        "id": "cHD-ZHGuEtYQ"
      },
      "execution_count": null,
      "outputs": []
    },
    {
      "cell_type": "code",
      "source": [
        "from sklearn.model_selection import train_test_split\n",
        "x_train,x_test,y_train,y_test=train_test_split(x,y)"
      ],
      "metadata": {
        "id": "J1v2cGfOEtg-"
      },
      "execution_count": null,
      "outputs": []
    },
    {
      "cell_type": "code",
      "source": [
        "x_train.shape"
      ],
      "metadata": {
        "colab": {
          "base_uri": "https://localhost:8080/"
        },
        "id": "zJGpsh89E9uc",
        "outputId": "20052897-b008-45d3-9c06-1ed6a7cef623"
      },
      "execution_count": null,
      "outputs": [
        {
          "output_type": "execute_result",
          "data": {
            "text/plain": [
              "(150088,)"
            ]
          },
          "metadata": {},
          "execution_count": 50
        }
      ]
    },
    {
      "cell_type": "code",
      "source": [
        "x_test.shape"
      ],
      "metadata": {
        "colab": {
          "base_uri": "https://localhost:8080/"
        },
        "id": "C9MJ55MPE94E",
        "outputId": "cd4dabcf-15d0-4900-b534-738fa1b38033"
      },
      "execution_count": null,
      "outputs": [
        {
          "output_type": "execute_result",
          "data": {
            "text/plain": [
              "(50030,)"
            ]
          },
          "metadata": {},
          "execution_count": 51
        }
      ]
    },
    {
      "cell_type": "code",
      "source": [
        "from sklearn.feature_extraction.text import CountVectorizer\n",
        "cv=CountVectorizer(stop_words='english')"
      ],
      "metadata": {
        "id": "SurSoBnsE9_K"
      },
      "execution_count": null,
      "outputs": []
    },
    {
      "cell_type": "code",
      "source": [
        "x_train_vect=cv.fit_transform(x_train)   \n",
        "x_test_vect=cv.transform(x_test)"
      ],
      "metadata": {
        "id": "SbsXHE4KE-Cq"
      },
      "execution_count": null,
      "outputs": []
    },
    {
      "cell_type": "code",
      "source": [
        "x_train\n"
      ],
      "metadata": {
        "colab": {
          "base_uri": "https://localhost:8080/"
        },
        "id": "JP5dFMAcE-Jx",
        "outputId": "9b660db1-62dc-4d54-9275-ad0e798f4a01"
      },
      "execution_count": null,
      "outputs": [
        {
          "output_type": "execute_result",
          "data": {
            "text/plain": [
              "array(['modi says his govt has shown courage for surgical strike all spheres land sky and space again',\n",
              "       'welfare exserviceman priority modi govt then direction from govt should given all psu banks keep them their native place after reemployment defence personal always away from home while defence reemployed after discharged from service jai hind',\n",
              "       'the numbers may not lying actually india slightly more peaceful but not owe our leaders what actually brought upon the change narendra modi biggest grouse was that felt that media was unusually harsh him for murderous hindu mobs guided congress politicians roamed the streets delhi slaughtering sikhs and most the main accused never faced justice same goes for bombay riots shiv sena goons rioted with impunity and the chief accused managed scot free same goes for bhagalpur and many other instances communal riots what actually changed from the ubiquitous television camera ground reporting media yes the same msm which few never tire complaining about forces nay shames administration into taking steps quell disturbances the state has always possessed the capability control these communal disturbances but due its own biases and the bigotry those administration the mobs were allowed violent but the omni present media makes tougher now yogi adityanath demonstrates riots are still looked upon some quench their lust for power but now when yogi makes inflammatory comment recorded the act and though seems insignificant small way made accountable for his words and deeds would have gotten away with lot worse earlier should also explain why some people continue complaining about media say what you will but the glare televisions cameras make the engineering genocide bit tougher however any riot shameful because these riots operate with the complicity those power and each act communal disturbance indictment the political leaders',\n",
              "       ...,\n",
              "       'both are equally corrupt both are corrupt whether equal not will find out later the bjp hasn crippled cag remember the congress only lost hold power when things got bad results decades bad policies the s until they had choice the bjp even though fucked majorly with monetary decisions like demonetization even though forgive but this pisses off don understand how you can just shrug something like that with even though how would you feel like went even though hitler was mass murderer revitalized the german economy there even though here punished the congress for scams then bjp needs punished for demonetization for demonetization was like being midst earthquake someone was pulling the ground from underneath feet doesn matter what modi says does say lot things and the opposite them all time his actions are more honest was clear that the man party that went ahead with demonetization does not have the interest middle class heart bjp not the party the middle class not buying that bullshit after demonetization does seem trying best bring investment and create jobs though all that happening major indian companies being aggressively taken over ebay walmart and the like yes and the problem while sells business friendly friendly towards certain businesses cough ambani adani while others get fucked over willing bet mukesh ambani involved shady deals just like his brother anil vijay mallya but the ones who have seen their fortunes dwindle are those who didn side with modi amit and the people hate corruption but forget private business are involved too collusion not mention are experiencing the worst rate unemployment the nation the moment with lot youths with degrees from colleges that didn teach them much but too lot money from them settling for low paying jobs this regime despite all marketing almost bad congress for startups smes feel like the have dialed back the s resentment against the system amitabh bacchan angry young man persona after the optimism the s see one difference between bjp and congress shameless the people congress pretend people with good intentions while people from bjp are openly shameless about their bad intentions the political culture whole has gone drown the drain lynchings used happen before but now organized used suspect that media were paid put spin news interview least pretended that they were unbiased but now overt shameless you can walk away from the debates have turned into big boss come back hour later not surprised even predict what being said repeat stuff don about you but blame the bjp recommend you listen the seen and the unseen from ivm podcast had lot similar misconceptions about the bjp before helped think more depth about stuff than cut paste photoshop social media can supporters either party sway their way don support either party but voting against bjp because want send message even though just one lad the establishment that they not getting away with pulling something like demonetization whichever way you vote stay vigilant get involved activism hold you elected representative accountable not talking about sharing posts social media mean start sending your responses bills the ministers tweet them you oppose something the legislation for tweeting minister opposing provision privacy bill train you gun their asses make them know you there that you looking them make them feel uncomfortable please don waste your time holding them accountable for shit they say stick strictly their business laws expenditure and ignore the trolls swear works the moment you start asking question about their work ignore all attempts from trolls distract you congress did this rahul said that they sort give because they don have proper response',\n",
              "       'let guess dat ass was and was beautiful',\n",
              "       'priorities our prime minister continue surprise indians back election rally and campaignin guess what joke'],\n",
              "      dtype=object)"
            ]
          },
          "metadata": {},
          "execution_count": 54
        }
      ]
    },
    {
      "cell_type": "code",
      "source": [
        "from sklearn.naive_bayes import MultinomialNB\n"
      ],
      "metadata": {
        "id": "PhZjeyUjFm_o"
      },
      "execution_count": null,
      "outputs": []
    },
    {
      "cell_type": "code",
      "source": [
        "nb=MultinomialNB()\n",
        "nb"
      ],
      "metadata": {
        "colab": {
          "base_uri": "https://localhost:8080/"
        },
        "id": "8uI57zR4FnJO",
        "outputId": "bec3209f-e538-49bb-e82c-21fe30a9dc8f"
      },
      "execution_count": null,
      "outputs": [
        {
          "output_type": "execute_result",
          "data": {
            "text/plain": [
              "MultinomialNB()"
            ]
          },
          "metadata": {},
          "execution_count": 56
        }
      ]
    },
    {
      "cell_type": "code",
      "source": [
        "nb.fit(x_train_vect,y_train)"
      ],
      "metadata": {
        "colab": {
          "base_uri": "https://localhost:8080/"
        },
        "id": "cKDwI7NEFnMu",
        "outputId": "3dd56e96-4bb5-4e39-a16f-1f0960d43dac"
      },
      "execution_count": null,
      "outputs": [
        {
          "output_type": "execute_result",
          "data": {
            "text/plain": [
              "MultinomialNB()"
            ]
          },
          "metadata": {},
          "execution_count": 57
        }
      ]
    },
    {
      "cell_type": "code",
      "source": [
        "y_pred=nb.predict(x_test_vect)"
      ],
      "metadata": {
        "id": "vaplrSW7HCV_"
      },
      "execution_count": null,
      "outputs": []
    },
    {
      "cell_type": "code",
      "source": [
        "y_pred"
      ],
      "metadata": {
        "colab": {
          "base_uri": "https://localhost:8080/"
        },
        "id": "4jtmF5k7HGA8",
        "outputId": "956daa39-5106-48b7-e595-6c2f2d5204f3"
      },
      "execution_count": null,
      "outputs": [
        {
          "output_type": "execute_result",
          "data": {
            "text/plain": [
              "array([0., 1., 1., ..., 0., 1., 1.])"
            ]
          },
          "metadata": {},
          "execution_count": 59
        }
      ]
    },
    {
      "cell_type": "code",
      "source": [
        "y_test"
      ],
      "metadata": {
        "colab": {
          "base_uri": "https://localhost:8080/"
        },
        "id": "O59kY11nHIBa",
        "outputId": "310c957e-9630-40c0-e676-fffc42433827"
      },
      "execution_count": null,
      "outputs": [
        {
          "output_type": "execute_result",
          "data": {
            "text/plain": [
              "array([ 0.,  1.,  1., ...,  0.,  0., -1.])"
            ]
          },
          "metadata": {},
          "execution_count": 60
        }
      ]
    },
    {
      "cell_type": "code",
      "source": [
        "from sklearn.metrics import accuracy_score,confusion_matrix\n",
        "accuracy_score(y_test,y_pred)"
      ],
      "metadata": {
        "colab": {
          "base_uri": "https://localhost:8080/"
        },
        "id": "C33y7GENHP1h",
        "outputId": "99cb48fa-909e-4cf7-98c4-57b505d49c7d"
      },
      "execution_count": null,
      "outputs": [
        {
          "output_type": "execute_result",
          "data": {
            "text/plain": [
              "0.7000399760143914"
            ]
          },
          "metadata": {},
          "execution_count": 61
        }
      ]
    },
    {
      "cell_type": "code",
      "source": [
        "confusion_matrix(y_test,y_pred)"
      ],
      "metadata": {
        "colab": {
          "base_uri": "https://localhost:8080/"
        },
        "id": "oNljSKBSHP__",
        "outputId": "a16a0aa1-46dc-453e-a3f2-264841be5df8"
      },
      "execution_count": null,
      "outputs": [
        {
          "output_type": "execute_result",
          "data": {
            "text/plain": [
              "array([[ 5992,   711,  4331],\n",
              "       [  844,  9534,  6541],\n",
              "       [ 1274,  1306, 19497]])"
            ]
          },
          "metadata": {},
          "execution_count": 62
        }
      ]
    }
  ]
}